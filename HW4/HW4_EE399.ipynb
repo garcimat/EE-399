{
  "nbformat": 4,
  "nbformat_minor": 0,
  "metadata": {
    "colab": {
      "provenance": []
    },
    "kernelspec": {
      "name": "python3",
      "display_name": "Python 3"
    },
    "language_info": {
      "name": "python"
    }
  },
  "cells": [
    {
      "cell_type": "markdown",
      "source": [
        "# EE 399) HW #4\n",
        "\n",
        "## GitHub Link: https://github.com/garcimat/EE-399/tree/main/HW4"
      ],
      "metadata": {
        "id": "v6xq5iB8MgQ3"
      }
    },
    {
      "cell_type": "code",
      "source": [
        "# I. \n",
        "  # i)\n",
        "import numpy as np\n",
        "from tensorflow.keras.models import Sequential\n",
        "from tensorflow.keras.layers import Dense\n",
        "\n",
        "X = np.arange(0, 31)\n",
        "Y = np.array([30, 35, 33, 32, 34, 37, 39, 38, 36, 36, 37, 39, 42, 45, 45, 41, 40, 39, 42, 44, 47, 49, 50, 49, 46, 48, 50, 53, 55, 54, 53])\n",
        "model = Sequential()\n",
        "model.add(Dense(10, input_dim=1, activation='relu'))\n",
        "model.add(Dense(5, activation='relu'))\n",
        "model.add(Dense(1))\n",
        "model.compile(loss='mean_squared_error', optimizer='adam')\n",
        "model.fit(X, Y, epochs=1000, verbose=0)"
      ],
      "metadata": {
        "colab": {
          "base_uri": "https://localhost:8080/"
        },
        "id": "V_1HdaL0MmUi",
        "outputId": "ed80810f-e7b2-499f-e349-7bd25eee53f5"
      },
      "execution_count": null,
      "outputs": [
        {
          "output_type": "execute_result",
          "data": {
            "text/plain": [
              "<keras.callbacks.History at 0x7f2980cb9090>"
            ]
          },
          "metadata": {},
          "execution_count": 9
        }
      ]
    },
    {
      "cell_type": "code",
      "source": [
        "  # ii)\n",
        "X_train = X[:20]\n",
        "Y_train = Y[:20]\n",
        "X_test = X[20:]\n",
        "Y_test = Y[20:]\n",
        "\n",
        "model.fit(X_train, Y_train, epochs=1000, verbose=0)\n",
        "\n",
        "# Compute least square error for training and test data\n",
        "train_error = np.mean((model.predict(X_train) - Y_train)**2)\n",
        "test_error = np.mean((model.predict(X_test) - Y_test)**2)\n",
        "print('Training Error: ', train_error)\n",
        "print('Test Error: ', test_error)"
      ],
      "metadata": {
        "colab": {
          "base_uri": "https://localhost:8080/"
        },
        "id": "NSyjgDNyM-vd",
        "outputId": "fad88d85-bd5b-4cc8-e36c-3b4f569e790a"
      },
      "execution_count": null,
      "outputs": [
        {
          "output_type": "stream",
          "name": "stdout",
          "text": [
            "1/1 [==============================] - 0s 242ms/step\n",
            "1/1 [==============================] - 0s 50ms/step\n",
            "Training Error:  1333.1340442503433\n",
            "Test Error:  2354.6160297023016\n"
          ]
        }
      ]
    },
    {
      "cell_type": "code",
      "source": [
        "  # iii)\n",
        "X_train = np.concatenate((X[:10], X[20:]))\n",
        "Y_train = np.concatenate((Y[:10], Y[20:]))\n",
        "X_test = X[10:20]\n",
        "Y_test = Y[10:20]\n",
        "\n",
        "model.fit(X_train, Y_train, epochs=1000, verbose=0)\n",
        "\n",
        "# Compute least square error for training and test data\n",
        "train_error = np.mean((model.predict(X_train) - Y_train)**2)\n",
        "test_error = np.mean((model.predict(X_test) - Y_test)**2)\n",
        "print('Training Error: ', train_error)\n",
        "print('Test Error: ', test_error)"
      ],
      "metadata": {
        "colab": {
          "base_uri": "https://localhost:8080/"
        },
        "id": "MoZt8CGzNDb0",
        "outputId": "86553529-af1f-49f7-b5e5-0994871a9604"
      },
      "execution_count": null,
      "outputs": [
        {
          "output_type": "stream",
          "name": "stdout",
          "text": [
            "1/1 [==============================] - 0s 24ms/step\n",
            "1/1 [==============================] - 0s 28ms/step\n",
            "Training Error:  1673.672529868885\n",
            "Test Error:  1484.4932124081433\n"
          ]
        }
      ]
    },
    {
      "cell_type": "code",
      "source": [
        "  # iv)\n",
        "  "
      ],
      "metadata": {
        "id": "zc1HBoE0NIjI"
      },
      "execution_count": null,
      "outputs": []
    },
    {
      "cell_type": "code",
      "source": [
        "# II.\n",
        "  # i)\n",
        "import numpy as np\n",
        "import matplotlib.pyplot as plt\n",
        "from sklearn.datasets import fetch_openml\n",
        "from sklearn.model_selection import train_test_split\n",
        "from sklearn.decomposition import PCA\n",
        "from keras.models import Sequential\n",
        "from keras.layers import Dense\n",
        "\n",
        "mnist = fetch_openml('mnist_784')\n",
        "X = mnist.data\n",
        "Y = mnist.target\n",
        "\n",
        "pca = PCA(n_components=20)\n",
        "pca.fit(X)\n",
        "\n",
        "X_pca = pca.transform(X)"
      ],
      "metadata": {
        "colab": {
          "base_uri": "https://localhost:8080/"
        },
        "id": "4kTB1NqaNRSz",
        "outputId": "86ef8712-0bea-48b8-bfe4-d699c55b76b4"
      },
      "execution_count": null,
      "outputs": [
        {
          "output_type": "stream",
          "name": "stderr",
          "text": [
            "/usr/local/lib/python3.10/dist-packages/sklearn/datasets/_openml.py:968: FutureWarning: The default value of `parser` will change from `'liac-arff'` to `'auto'` in 1.4. You can set `parser='auto'` to silence this warning. Therefore, an `ImportError` will be raised from 1.4 if the dataset is dense and pandas is not installed. Note that the pandas parser may return different data types. See the Notes Section in fetch_openml's API doc for details.\n",
            "  warn(\n"
          ]
        }
      ]
    },
    {
      "cell_type": "code",
      "source": [
        "  # ii)\n",
        "from keras.utils import to_categorical\n",
        "\n",
        "X_train, X_test, Y_train, Y_test = train_test_split(X_pca, Y, test_size=0.2, random_state=42)\n",
        "\n",
        "# Convert output labels to one-hot encoded format\n",
        "Y_train_one_hot = to_categorical(Y_train)\n",
        "Y_test_one_hot = to_categorical(Y_test)\n",
        "\n",
        "# Create and train the neural network\n",
        "model = Sequential()\n",
        "model.add(Dense(128, input_dim=20, activation='relu'))\n",
        "model.add(Dense(64, activation='relu'))\n",
        "model.add(Dense(10, activation='softmax'))\n",
        "\n",
        "model.compile(loss='categorical_crossentropy', optimizer='adam', metrics=['accuracy'])\n",
        "model.fit(X_train, Y_train_one_hot, epochs=10, batch_size=32, validation_data=(X_test, Y_test_one_hot))\n",
        "\n",
        "from sklearn.tree import DecisionTreeClassifier\n",
        "from sklearn.svm import SVC\n",
        "from sklearn.metrics import accuracy_score\n",
        "from keras.layers import LSTM\n",
        "\n",
        "# Decision Tree Classifier\n",
        "dtc = DecisionTreeClassifier(random_state=42)\n",
        "dtc.fit(X_train, Y_train)\n",
        "dtc_pred = dtc.predict(X_test)\n",
        "dtc_acc = accuracy_score(Y_test, dtc_pred)\n",
        "print('Decision Tree Classifier accuracy:', dtc_acc)\n",
        "\n",
        "# SVM Classifier\n",
        "svm = SVC(random_state=42)\n",
        "svm.fit(X_train, Y_train)\n",
        "svm_pred = svm.predict(X_test)\n",
        "svm_acc = accuracy_score(Y_test, svm_pred)\n",
        "print('SVM Classifier accuracy:', svm_acc)\n",
        "\n",
        "# LSTM\n",
        "X_train_lstm = X_train.reshape((X_train.shape[0], 1, X_train.shape[1]))\n",
        "X_test_lstm = X_test.reshape((X_test.shape[0], 1, X_test.shape[1]))\n",
        "\n",
        "# Create and train the LSTM model\n",
        "lstm = Sequential()\n",
        "lstm.add(LSTM(128, input_shape=(X_train_lstm.shape[1], X_train_lstm.shape[2]), activation='relu'))\n",
        "lstm.add(Dense(10, activation='softmax'))\n",
        "\n",
        "lstm.compile(loss='categorical_crossentropy', optimizer='adam', metrics=['accuracy'])\n",
        "lstm.fit(X_train_lstm, Y_train_one_hot, epochs=10, batch_size=32, validation_data=(X_test_lstm, Y_test_one_hot))"
      ],
      "metadata": {
        "colab": {
          "base_uri": "https://localhost:8080/"
        },
        "id": "sbW29FfGPdTw",
        "outputId": "6a03d3f3-5769-4ae4-abcc-5335b254b3e3"
      },
      "execution_count": null,
      "outputs": [
        {
          "output_type": "stream",
          "name": "stdout",
          "text": [
            "Epoch 1/10\n",
            "1750/1750 [==============================] - 6s 3ms/step - loss: 4.4674 - accuracy: 0.8763 - val_loss: 1.0874 - val_accuracy: 0.9161\n",
            "Epoch 2/10\n",
            "1750/1750 [==============================] - 5s 3ms/step - loss: 0.6920 - accuracy: 0.9212 - val_loss: 0.5668 - val_accuracy: 0.9084\n",
            "Epoch 3/10\n",
            "1750/1750 [==============================] - 4s 3ms/step - loss: 0.3284 - accuracy: 0.9293 - val_loss: 0.2924 - val_accuracy: 0.9322\n",
            "Epoch 4/10\n",
            "1750/1750 [==============================] - 6s 3ms/step - loss: 0.2189 - accuracy: 0.9416 - val_loss: 0.2419 - val_accuracy: 0.9402\n",
            "Epoch 5/10\n",
            "1750/1750 [==============================] - 5s 3ms/step - loss: 0.1890 - accuracy: 0.9469 - val_loss: 0.2105 - val_accuracy: 0.9408\n",
            "Epoch 6/10\n",
            "1750/1750 [==============================] - 5s 3ms/step - loss: 0.1699 - accuracy: 0.9504 - val_loss: 0.1919 - val_accuracy: 0.9475\n",
            "Epoch 7/10\n",
            "1750/1750 [==============================] - 11s 6ms/step - loss: 0.1600 - accuracy: 0.9541 - val_loss: 0.1956 - val_accuracy: 0.9491\n",
            "Epoch 8/10\n",
            "1750/1750 [==============================] - 8s 4ms/step - loss: 0.1451 - accuracy: 0.9586 - val_loss: 0.1800 - val_accuracy: 0.9511\n",
            "Epoch 9/10\n",
            "1750/1750 [==============================] - 5s 3ms/step - loss: 0.1399 - accuracy: 0.9599 - val_loss: 0.1714 - val_accuracy: 0.9521\n",
            "Epoch 10/10\n",
            "1750/1750 [==============================] - 6s 3ms/step - loss: 0.1360 - accuracy: 0.9622 - val_loss: 0.1504 - val_accuracy: 0.9592\n",
            "Decision Tree Classifier accuracy: 0.8488571428571429\n",
            "SVM Classifier accuracy: 0.9740714285714286\n",
            "Epoch 1/10\n",
            "1750/1750 [==============================] - 13s 6ms/step - loss: 3.0057 - accuracy: 0.8548 - val_loss: 0.7957 - val_accuracy: 0.9103\n",
            "Epoch 2/10\n",
            "1750/1750 [==============================] - 10s 6ms/step - loss: 0.4961 - accuracy: 0.9192 - val_loss: 0.4152 - val_accuracy: 0.9177\n",
            "Epoch 3/10\n",
            "1750/1750 [==============================] - 12s 7ms/step - loss: 0.3120 - accuracy: 0.9269 - val_loss: 0.3052 - val_accuracy: 0.9261\n",
            "Epoch 4/10\n",
            "1750/1750 [==============================] - 11s 6ms/step - loss: 0.2689 - accuracy: 0.9329 - val_loss: 0.3293 - val_accuracy: 0.9266\n",
            "Epoch 5/10\n",
            "1750/1750 [==============================] - 11s 7ms/step - loss: 0.2592 - accuracy: 0.9329 - val_loss: 0.3167 - val_accuracy: 0.9291\n",
            "Epoch 6/10\n",
            "1750/1750 [==============================] - 12s 7ms/step - loss: 0.2513 - accuracy: 0.9358 - val_loss: 0.2729 - val_accuracy: 0.9363\n",
            "Epoch 7/10\n",
            "1750/1750 [==============================] - 11s 6ms/step - loss: 0.2459 - accuracy: 0.9375 - val_loss: 0.2750 - val_accuracy: 0.9371\n",
            "Epoch 8/10\n",
            "1750/1750 [==============================] - 10s 6ms/step - loss: 0.2444 - accuracy: 0.9406 - val_loss: 0.2827 - val_accuracy: 0.9361\n",
            "Epoch 9/10\n",
            "1750/1750 [==============================] - 10s 6ms/step - loss: 0.2351 - accuracy: 0.9413 - val_loss: 0.2603 - val_accuracy: 0.9371\n",
            "Epoch 10/10\n",
            "1750/1750 [==============================] - 11s 6ms/step - loss: 0.2325 - accuracy: 0.9433 - val_loss: 0.3152 - val_accuracy: 0.9271\n"
          ]
        },
        {
          "output_type": "execute_result",
          "data": {
            "text/plain": [
              "<keras.callbacks.History at 0x7f2986cd7be0>"
            ]
          },
          "metadata": {},
          "execution_count": 13
        }
      ]
    }
  ]
}