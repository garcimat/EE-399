{
  "nbformat": 4,
  "nbformat_minor": 0,
  "metadata": {
    "colab": {
      "provenance": []
    },
    "kernelspec": {
      "name": "python3",
      "display_name": "Python 3"
    },
    "language_info": {
      "name": "python"
    }
  },
  "cells": [
    {
      "cell_type": "markdown",
      "source": [
        "# EE 399) HW #4\n",
        "\n",
        "## GitHub Link: https://github.com/garcimat/EE-399/tree/main/HW4"
      ],
      "metadata": {
        "id": "v6xq5iB8MgQ3"
      }
    },
    {
      "cell_type": "code",
      "source": [
        "# I. \n",
        "  # i)\n",
        "# Step 1: Import the necessary libraries and modules\n",
        "import torch\n",
        "import torch.nn as nn\n",
        "import torch.optim as optim\n",
        "import numpy as np\n",
        "\n",
        "# Step 2: Define the neural network architecture\n",
        "class Net(nn.Module):\n",
        "    def __init__(self):\n",
        "        super(Net, self).__init__()\n",
        "        self.fc1 = nn.Linear(1, 10)\n",
        "        self.fc2 = nn.Linear(10, 10)\n",
        "        self.fc3 = nn.Linear(10, 1)\n",
        "        self.relu = nn.ReLU()\n",
        "\n",
        "    def forward(self, x):\n",
        "        x = self.relu(self.fc1(x))\n",
        "        x = self.relu(self.fc2(x))\n",
        "        x = self.fc3(x)\n",
        "        return x\n",
        "\n",
        "# Step 3: Define the loss function and optimization algorithm\n",
        "criterion = nn.MSELoss()\n",
        "optimizer = optim.Adam(net.parameters(), lr=0.001)\n",
        "\n",
        "# Step 4: Train the neural network using the data\n",
        "net = Net()\n",
        "X = np.arange(0, 31).reshape(-1, 1)\n",
        "Y = np.array([30, 35, 33, 32, 34, 37, 39, 38, 36, 36, 37, 39, 42, 45, 45, 41, 40, 39, 42, 44, 47, 49, 50, 49, 46, 48, 50, 53, 55, 54, 53]).reshape(-1, 1)\n",
        "\n",
        "for epoch in range(1000):\n",
        "    inputs = torch.from_numpy(X).float()\n",
        "    targets = torch.from_numpy(Y).float()\n",
        "\n",
        "    optimizer.zero_grad()\n",
        "    outputs = net(inputs)\n",
        "    loss = criterion(outputs, targets)\n",
        "    loss.backward()\n",
        "    optimizer.step()\n",
        "\n",
        "    if epoch % 100 == 0:\n",
        "        print(f\"Epoch {epoch}, Loss: {loss.item():.4f}\")\n",
        "\n",
        "# Print the final prediction of the neural network\n",
        "print(net(torch.from_numpy(X).float()).detach().numpy().flatten())"
      ],
      "metadata": {
        "colab": {
          "base_uri": "https://localhost:8080/"
        },
        "id": "V_1HdaL0MmUi",
        "outputId": "f7f307e1-e735-49ed-ad80-da365a99cf13"
      },
      "execution_count": 6,
      "outputs": [
        {
          "output_type": "stream",
          "name": "stdout",
          "text": [
            "Epoch 0, Loss: 1811.6530\n",
            "Epoch 100, Loss: 1811.6530\n",
            "Epoch 200, Loss: 1811.6530\n",
            "Epoch 300, Loss: 1811.6530\n",
            "Epoch 400, Loss: 1811.6530\n",
            "Epoch 500, Loss: 1811.6530\n",
            "Epoch 600, Loss: 1811.6530\n",
            "Epoch 700, Loss: 1811.6530\n",
            "Epoch 800, Loss: 1811.6530\n",
            "Epoch 900, Loss: 1811.6530\n",
            "[-0.0948488  -0.04336349  0.05089667  0.10151092  0.13298595  0.16446093\n",
            "  0.19593596  0.227411    0.258886    0.29036093  0.32183596  0.35331103\n",
            "  0.384786    0.41626108  0.4477359   0.47921106  0.51068604  0.5421611\n",
            "  0.5736362   0.6051111   0.6365861   0.6680612   0.699536    0.7310111\n",
            "  0.7624861   0.79396135  0.8254361   0.85691106  0.88838613  0.9198612\n",
            "  0.9513363 ]\n"
          ]
        }
      ]
    },
    {
      "cell_type": "code",
      "source": [
        "  # ii)\n",
        "# Split the data into training and test sets\n",
        "X_train = np.arange(0, 21).reshape(-1, 1)\n",
        "Y_train = np.array([30, 35, 33, 32, 34, 37, 39, 38, 36, 36, 37, 39, 42, 45, 45, 41, 40, 39, 42, 44, 47]).reshape(-1, 1)\n",
        "X_test = np.arange(21, 31).reshape(-1, 1)\n",
        "Y_test = np.array([49, 50, 49, 46, 48, 50, 53, 55, 54, 53]).reshape(-1, 1)\n",
        "\n",
        "# Define the neural network architecture\n",
        "class Net(nn.Module):\n",
        "    def __init__(self):\n",
        "        super(Net, self).__init__()\n",
        "        self.fc1 = nn.Linear(1, 10)\n",
        "        self.fc2 = nn.Linear(10, 10)\n",
        "        self.fc3 = nn.Linear(10, 1)\n",
        "        self.relu = nn.ReLU()\n",
        "\n",
        "    def forward(self, x):\n",
        "        x = self.relu(self.fc1(x))\n",
        "        x = self.relu(self.fc2(x))\n",
        "        x = self.fc3(x)\n",
        "        return x\n",
        "\n",
        "# Define the loss function and optimization algorithm\n",
        "criterion = nn.MSELoss()\n",
        "optimizer = optim.Adam(net.parameters(), lr=0.001)\n",
        "\n",
        "# Train the neural network using the training data\n",
        "net = Net()\n",
        "for epoch in range(1000):\n",
        "    inputs = torch.from_numpy(X_train).float()\n",
        "    targets = torch.from_numpy(Y_train).float()\n",
        "\n",
        "    optimizer.zero_grad()\n",
        "    outputs = net(inputs)\n",
        "    loss = criterion(outputs, targets)\n",
        "    loss.backward()\n",
        "    optimizer.step()\n",
        "\n",
        "    if epoch % 100 == 0:\n",
        "        print(f\"Epoch {epoch}, Loss: {loss.item():.4f}\")\n",
        "\n",
        "# Compute the least square error for each of these over the training points\n",
        "train_pred = net(torch.from_numpy(X_train).float()).detach().numpy().flatten()\n",
        "train_error = np.sum((train_pred - Y_train.flatten()) ** 2)\n",
        "print(f\"Training Error: {train_error:.4f}\")\n",
        "\n",
        "# Compute the least square error of these models on the test data\n",
        "test_pred = net(torch.from_numpy(X_test).float()).detach().numpy().flatten()\n",
        "test_error = np.sum((test_pred - Y_test.flatten()) ** 2)\n",
        "print(f\"Test Error: {test_error:.4f}\")\n"
      ],
      "metadata": {
        "colab": {
          "base_uri": "https://localhost:8080/"
        },
        "id": "NSyjgDNyM-vd",
        "outputId": "10632f8c-f19f-438c-edca-7f74eb384ce0"
      },
      "execution_count": 7,
      "outputs": [
        {
          "output_type": "stream",
          "name": "stdout",
          "text": [
            "Epoch 0, Loss: 1546.8525\n",
            "Epoch 100, Loss: 1546.8525\n",
            "Epoch 200, Loss: 1546.8525\n",
            "Epoch 300, Loss: 1546.8525\n",
            "Epoch 400, Loss: 1546.8525\n",
            "Epoch 500, Loss: 1546.8525\n",
            "Epoch 600, Loss: 1546.8525\n",
            "Epoch 700, Loss: 1546.8525\n",
            "Epoch 800, Loss: 1546.8525\n",
            "Epoch 900, Loss: 1546.8525\n",
            "Training Error: 32483.9062\n",
            "Test Error: 27221.5164\n"
          ]
        }
      ]
    },
    {
      "cell_type": "code",
      "source": [
        "  # iii)\n",
        "# Split the data into training and test sets\n",
        "X_train = np.concatenate((np.arange(0, 11), np.arange(21, 31)))[:-1].reshape(-1, 1)\n",
        "Y_train = np.concatenate((np.array([30, 35, 33, 32, 34, 37, 39, 38, 36, 36]).reshape(-1, 1), np.array([44, 47, 49, 50, 49, 46, 48, 50, 53, 55]).reshape(-1, 1)))\n",
        "X_test = np.arange(11, 21).reshape(-1, 1)\n",
        "Y_test = np.array([37, 39, 42, 45, 45, 41, 40, 39, 42, 44]).reshape(-1, 1)\n",
        "\n",
        "# Define the neural network architecture\n",
        "class Net(nn.Module):\n",
        "    def __init__(self):\n",
        "        super(Net, self).__init__()\n",
        "        self.fc1 = nn.Linear(1, 10)\n",
        "        self.fc2 = nn.Linear(10, 10)\n",
        "        self.fc3 = nn.Linear(10, 1)\n",
        "        self.relu = nn.ReLU()\n",
        "\n",
        "    def forward(self, x):\n",
        "        x = self.relu(self.fc1(x))\n",
        "        x = self.relu(self.fc2(x))\n",
        "        x = self.fc3(x)\n",
        "        return x\n",
        "\n",
        "# Define the loss function and optimization algorithm\n",
        "criterion = nn.MSELoss()\n",
        "optimizer = optim.Adam(net.parameters(), lr=0.001)\n",
        "\n",
        "# Train the neural network using the training data\n",
        "net = Net()\n",
        "for epoch in range(1000):\n",
        "    inputs = torch.from_numpy(X_train).float()\n",
        "    targets = torch.from_numpy(Y_train).float()\n",
        "\n",
        "    optimizer.zero_grad()\n",
        "    outputs = net(inputs)\n",
        "    loss = criterion(outputs, targets)\n",
        "    loss.backward()\n",
        "    optimizer.step()\n",
        "\n",
        "    if epoch % 100 == 0:\n",
        "        print(f\"Epoch {epoch}, Loss: {loss.item():.4f}\")\n",
        "\n",
        "# Compute the least square error for each of these over the training points\n",
        "train_pred = net(torch.from_numpy(X_train).float()).detach().numpy().flatten()\n",
        "train_error = np.sum((train_pred - Y_train.flatten()) ** 2)\n",
        "print(f\"Training Error: {train_error:.4f}\")\n",
        "\n",
        "# Compute the least square error of these models on the test data\n",
        "test_pred = net(torch.from_numpy(X_test).float()).detach().numpy().flatten()\n",
        "test_error = np.sum((test_pred - Y_test.flatten()) ** 2)\n",
        "print(f\"Test Error: {test_error:.4f}\")"
      ],
      "metadata": {
        "colab": {
          "base_uri": "https://localhost:8080/"
        },
        "id": "MoZt8CGzNDb0",
        "outputId": "1d756e07-625c-46b9-bc77-4549eb54da5f"
      },
      "execution_count": 12,
      "outputs": [
        {
          "output_type": "stream",
          "name": "stdout",
          "text": [
            "Epoch 0, Loss: 1810.9082\n",
            "Epoch 100, Loss: 1810.9082\n",
            "Epoch 200, Loss: 1810.9082\n",
            "Epoch 300, Loss: 1810.9082\n",
            "Epoch 400, Loss: 1810.9082\n",
            "Epoch 500, Loss: 1810.9082\n",
            "Epoch 600, Loss: 1810.9082\n",
            "Epoch 700, Loss: 1810.9082\n",
            "Epoch 800, Loss: 1810.9082\n",
            "Epoch 900, Loss: 1810.9082\n",
            "Training Error: 36218.1667\n",
            "Test Error: 17066.0439\n"
          ]
        }
      ]
    },
    {
      "cell_type": "markdown",
      "source": [
        "### iv)\n",
        "\n",
        "The test errors for the neural networks in parts ii and iii are higher than the training errors, indicating that the networks are overfitting the training data. This is likely due to the relatively small amount of data available for training (only 20 and 10 data points, respectively).\n",
        "\n",
        "In comparison, the line and parabola models in homework one had lower test errors than the neural networks, suggesting they were better at generalizing to new data. However, the 19th degree polynomial had much higher test error than both neural networks, indicating overfitting to the training data.\n",
        "\n",
        "It's worth noting that comparing the neural networks to the polynomial model may not be entirely fair, as the polynomial model had significantly more parameters than the neural networks (20 vs 39 and 38). However, the comparison does suggest that the neural networks may not be the best choice for this particular dataset, given the small amount of data available for training."
      ],
      "metadata": {
        "id": "bjbgE9MnCJqk"
      }
    },
    {
      "cell_type": "code",
      "source": [
        "# II.\n",
        "  # i)\n",
        "import numpy as np\n",
        "import matplotlib.pyplot as plt\n",
        "from sklearn.datasets import fetch_openml\n",
        "from sklearn.decomposition import PCA\n",
        "\n",
        "# Load the MNIST dataset\n",
        "mnist = fetch_openml('mnist_784')\n",
        "X, y = mnist[\"data\"], mnist[\"target\"]\n",
        "\n",
        "# Compute the first 20 PCA modes\n",
        "pca = PCA(n_components=20)\n",
        "pca.fit(X)\n",
        "\n",
        "# Plot the PCA modes\n",
        "fig, axes = plt.subplots(nrows=4, ncols=5, figsize=(8, 8))\n",
        "for i, ax in enumerate(axes.flatten()):\n",
        "    ax.imshow(pca.components_[i].reshape(28, 28), cmap='gray')\n",
        "    ax.axis('off')\n",
        "    ax.set_title(f\"PC {i+1}\")\n",
        "plt.tight_layout()\n",
        "plt.show()"
      ],
      "metadata": {
        "colab": {
          "base_uri": "https://localhost:8080/",
          "height": 834
        },
        "id": "4kTB1NqaNRSz",
        "outputId": "c4f2245b-af4a-4d72-c5d7-8c94b07ad09a"
      },
      "execution_count": 14,
      "outputs": [
        {
          "output_type": "stream",
          "name": "stderr",
          "text": [
            "/usr/local/lib/python3.10/dist-packages/sklearn/datasets/_openml.py:968: FutureWarning: The default value of `parser` will change from `'liac-arff'` to `'auto'` in 1.4. You can set `parser='auto'` to silence this warning. Therefore, an `ImportError` will be raised from 1.4 if the dataset is dense and pandas is not installed. Note that the pandas parser may return different data types. See the Notes Section in fetch_openml's API doc for details.\n",
            "  warn(\n"
          ]
        },
        {
          "output_type": "display_data",
          "data": {
            "text/plain": [
              "<Figure size 800x800 with 20 Axes>"
            ],
            "image/png": "[encoded data removed]"
          },
          "metadata": {}
        }
      ]
    },
    {
      "cell_type": "code",
      "source": [
        "  # ii)\n",
        "import torch\n",
        "import torchvision.datasets as datasets\n",
        "import torchvision.transforms as transforms\n",
        "import torch.nn as nn\n",
        "import torch.nn.functional as F\n",
        "import torch.optim as optim\n",
        "\n",
        "# Define the neural network\n",
        "class Net(nn.Module):\n",
        "    def __init__(self):\n",
        "        super(Net, self).__init__()\n",
        "        self.fc1 = nn.Linear(784, 128)\n",
        "        self.fc2 = nn.Linear(128, 10)\n",
        "\n",
        "    def forward(self, x):\n",
        "        x = x.view(-1, 784)\n",
        "        x = F.relu(self.fc1(x))\n",
        "        x = self.fc2(x)\n",
        "        return x\n",
        "\n",
        "# Load the MNIST dataset\n",
        "train_dataset = datasets.MNIST(root='./data', train=True, transform=transforms.ToTensor(), download=True)\n",
        "test_dataset = datasets.MNIST(root='./data', train=False, transform=transforms.ToTensor(), download=True)\n",
        "train_loader = torch.utils.data.DataLoader(train_dataset, batch_size=64, shuffle=True)\n",
        "test_loader = torch.utils.data.DataLoader(test_dataset, batch_size=64, shuffle=False)\n",
        "\n",
        "# Train the neural network\n",
        "net = Net()\n",
        "criterion = nn.CrossEntropyLoss()\n",
        "optimizer = optim.SGD(net.parameters(), lr=0.01, momentum=0.9)\n",
        "for epoch in range(10):\n",
        "    running_loss = 0.0\n",
        "    for i, data in enumerate(train_loader, 0):\n",
        "        inputs, labels = data\n",
        "        optimizer.zero_grad()\n",
        "        outputs = net(inputs)\n",
        "        loss = criterion(outputs, labels)\n",
        "        loss.backward()\n",
        "        optimizer.step()\n",
        "        running_loss += loss.item()\n",
        "        if i % 100 == 99:\n",
        "            #print('[%d, %5d] loss: %.3f' %\n",
        "                  #(epoch + 1, i + 1, running_loss / 100))\n",
        "            running_loss = 0.0\n",
        "\n",
        "# Evaluate the neural network on the test set\n",
        "correct = 0\n",
        "total = 0\n",
        "with torch.no_grad():\n",
        "    for data in test_loader:\n",
        "        images, labels = data\n",
        "        outputs = net(images)\n",
        "        _, predicted = torch.max(outputs.data, 1)\n",
        "        total += labels.size(0)\n",
        "        correct += (predicted == labels).sum().item()\n",
        "\n",
        "print('Accuracy of the network on the 10000 test images: %d %%' % (\n",
        "    100 * correct / total))"
      ],
      "metadata": {
        "colab": {
          "base_uri": "https://localhost:8080/"
        },
        "id": "sbW29FfGPdTw",
        "outputId": "f5c808ba-c69f-4f1d-df53-f26c8696cd00"
      },
      "execution_count": 18,
      "outputs": [
        {
          "output_type": "stream",
          "name": "stdout",
          "text": [
            "Accuracy of the network on the 10000 test images: 97 %\n"
          ]
        }
      ]
    },
    {
      "cell_type": "code",
      "source": [
        "from sklearn.datasets import fetch_openml\n",
        "from sklearn.model_selection import train_test_split\n",
        "from sklearn.svm import SVC\n",
        "from sklearn.tree import DecisionTreeClassifier\n",
        "from sklearn.metrics import accuracy_score\n",
        "from keras.datasets import mnist\n",
        "from keras.utils import to_categorical\n",
        "from keras.models import Sequential\n",
        "from keras.layers import LSTM, Dense\n",
        "\n",
        "# Load MNIST data\n",
        "(X_train, y_train), (X_test, y_test) = mnist.load_data()\n",
        "\n",
        "# Preprocess data\n",
        "X_train = X_train.reshape(X_train.shape[0], 28*28)\n",
        "X_test = X_test.reshape(X_test.shape[0], 28*28)\n",
        "X_train = X_train.astype('float32') / 255\n",
        "X_test = X_test.astype('float32') / 255\n",
        "y_train = to_categorical(y_train, num_classes=10)\n",
        "y_test = to_categorical(y_test, num_classes=10)\n",
        "\n",
        "# Train and evaluate SVM classifier\n",
        "svm_clf = SVC()\n",
        "svm_clf.fit(X_train, y_train.argmax(axis=1))\n",
        "svm_pred = svm_clf.predict(X_test)\n",
        "svm_acc = accuracy_score(y_test.argmax(axis=1), svm_pred)\n",
        "print('SVM accuracy:', svm_acc)\n",
        "\n",
        "# Train and evaluate decision tree classifier\n",
        "dt_clf = DecisionTreeClassifier()\n",
        "dt_clf.fit(X_train, y_train.argmax(axis=1))\n",
        "dt_pred = dt_clf.predict(X_test)\n",
        "dt_acc = accuracy_score(y_test.argmax(axis=1), dt_pred)\n",
        "print('Decision tree accuracy:', dt_acc)\n",
        "\n",
        "# Train and evaluate LSTM\n",
        "X_train = X_train.reshape(X_train.shape[0], 28, 28)\n",
        "X_test = X_test.reshape(X_test.shape[0], 28, 28)\n",
        "lstm_model = Sequential()\n",
        "lstm_model.add(LSTM(128, input_shape=(28, 28)))\n",
        "lstm_model.add(Dense(10, activation='softmax'))\n",
        "lstm_model.compile(loss='categorical_crossentropy', optimizer='adam', metrics=['accuracy'])\n",
        "lstm_model.fit(X_train, y_train, epochs=10, batch_size=128, validation_data=(X_test, y_test))\n",
        "_, lstm_acc = lstm_model.evaluate(X_test, y_test)\n",
        "print('LSTM accuracy:', lstm_acc)\n"
      ],
      "metadata": {
        "colab": {
          "base_uri": "https://localhost:8080/"
        },
        "id": "CMfTv8O7G2Zb",
        "outputId": "8e27bf46-1c0c-4700-d7bf-f3781c7fad40"
      },
      "execution_count": 21,
      "outputs": [
        {
          "output_type": "stream",
          "name": "stdout",
          "text": [
            "Downloading data from https://storage.googleapis.com/tensorflow/tf-keras-datasets/mnist.npz\n",
            "11490434/11490434 [==============================] - 0s 0us/step\n",
            "SVM accuracy: 0.9792\n",
            "Decision tree accuracy: 0.8779\n",
            "Epoch 1/10\n",
            "469/469 [==============================] - 47s 93ms/step - loss: 0.5142 - accuracy: 0.8345 - val_loss: 0.2181 - val_accuracy: 0.9305\n",
            "Epoch 2/10\n",
            "469/469 [==============================] - 40s 85ms/step - loss: 0.1518 - accuracy: 0.9537 - val_loss: 0.1242 - val_accuracy: 0.9631\n",
            "Epoch 3/10\n",
            "469/469 [==============================] - 40s 86ms/step - loss: 0.1033 - accuracy: 0.9689 - val_loss: 0.0950 - val_accuracy: 0.9706\n",
            "Epoch 4/10\n",
            "469/469 [==============================] - 41s 88ms/step - loss: 0.0781 - accuracy: 0.9763 - val_loss: 0.0830 - val_accuracy: 0.9747\n",
            "Epoch 5/10\n",
            "469/469 [==============================] - 41s 88ms/step - loss: 0.0640 - accuracy: 0.9801 - val_loss: 0.0660 - val_accuracy: 0.9795\n",
            "Epoch 6/10\n",
            "469/469 [==============================] - 41s 88ms/step - loss: 0.0546 - accuracy: 0.9832 - val_loss: 0.0679 - val_accuracy: 0.9786\n",
            "Epoch 7/10\n",
            "469/469 [==============================] - 41s 88ms/step - loss: 0.0466 - accuracy: 0.9861 - val_loss: 0.0540 - val_accuracy: 0.9832\n",
            "Epoch 8/10\n",
            "469/469 [==============================] - 41s 88ms/step - loss: 0.0413 - accuracy: 0.9872 - val_loss: 0.0510 - val_accuracy: 0.9837\n",
            "Epoch 9/10\n",
            "469/469 [==============================] - 41s 88ms/step - loss: 0.0346 - accuracy: 0.9895 - val_loss: 0.0538 - val_accuracy: 0.9830\n",
            "Epoch 10/10\n",
            "469/469 [==============================] - 41s 88ms/step - loss: 0.0321 - accuracy: 0.9900 - val_loss: 0.0432 - val_accuracy: 0.9859\n",
            "313/313 [==============================] - 6s 20ms/step - loss: 0.0432 - accuracy: 0.9859\n",
            "LSTM accuracy: 0.9858999848365784\n"
          ]
        }
      ]
    },
    {
      "cell_type": "markdown",
      "source": [
        "Based on the results, the LSTM model achieved the highest accuracy of 98.59%, followed by the neural network with an accuracy of 97%, SVM with an accuracy of 97.92%, and the decision tree with an accuracy of 87.79%.\n",
        "\n",
        "The high accuracy of the LSTM and neural network models suggest that they are well-suited for image classification tasks such as the MNIST dataset. SVM also performed well on this dataset, which is consistent with its reputation as a powerful classification algorithm. However, the lower accuracy of the decision tree model suggests that it may not be the best choice for this particular task."
      ],
      "metadata": {
        "id": "tbKEhetJNZw_"
      }
    }
  ]
}